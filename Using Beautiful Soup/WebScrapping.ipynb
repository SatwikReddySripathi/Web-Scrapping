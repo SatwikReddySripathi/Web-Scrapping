{
  "nbformat": 4,
  "nbformat_minor": 0,
  "metadata": {
    "colab": {
      "name": "WebScrapping.ipynb",
      "provenance": [],
      "collapsed_sections": []
    },
    "kernelspec": {
      "name": "python3",
      "display_name": "Python 3"
    },
    "language_info": {
      "name": "python"
    }
  },
  "cells": [
    {
      "cell_type": "markdown",
      "metadata": {
        "id": "IIExf-3tf7pI"
      },
      "source": [
        "# Web Scraping using python tool - bs4\n",
        "\n",
        "Author - Satwik Reddy Sripathi\n",
        "\n",
        "Date - 24-06-2021\n"
      ]
    },
    {
      "cell_type": "markdown",
      "metadata": {
        "id": "hvf1s52WnNlL"
      },
      "source": [
        "In this code I am considering the url - https://en.wikipedia.org/wiki/List_of_countries_by_HIV/AIDS_adult_prevalence_rate .This is a wikipedia webpage that consists of all the data related to Hiv Aids in a country"
      ]
    },
    {
      "cell_type": "markdown",
      "metadata": {
        "id": "DgF6vtDggSk6"
      },
      "source": [
        "## Step 1 : Import required packages"
      ]
    },
    {
      "cell_type": "markdown",
      "metadata": {
        "id": "PP42b6_3mq6P"
      },
      "source": [
        "First we import the BeautifulSoup package from bs4 that helps us in accessing the website and scrapping the data.\n",
        "\n",
        "The pandas package is used in generation of dataframes\n",
        "\n",
        "requests helps in sending he http1/1.1 that helps us in modifications in the table columns."
      ]
    },
    {
      "cell_type": "code",
      "metadata": {
        "id": "A7Dor3P6fHap"
      },
      "source": [
        "from bs4 import BeautifulSoup\n",
        "import pandas as pd\n",
        "import requests"
      ],
      "execution_count": 8,
      "outputs": []
    },
    {
      "cell_type": "markdown",
      "metadata": {
        "id": "U06jsxp_gYrH"
      },
      "source": [
        "## Step 2 : Generating the table"
      ]
    },
    {
      "cell_type": "code",
      "metadata": {
        "id": "s7w_6uoFgcTe"
      },
      "source": [
        "wiki = 'https://en.wikipedia.org/wiki/List_of_countries_by_HIV/AIDS_adult_prevalence_rate'\n",
        "# we are generating an empty dict called proxies\n",
        "proxies = {}\n",
        "# using the requests package we call the url and assign it to the dictionary of the protocol to the proxy url\n",
        "response = requests.get(wiki,proxies=proxies)\n",
        "# now here i am assigning all the text present to pageHtml\n",
        "pageHtml = response.text\n",
        "# then this pageHtml is called inside the beaytifulSoup to get our required table\n",
        "pageSoup = BeautifulSoup(pageHtml,\"html.parser\")\n",
        "# assign the values of table to tables\n",
        "tables = pageSoup.findAll(\"table\", { \"class\" : \"wikitable\" })\n",
        "# printig all the tables present in the url\n",
        "#print(\"Number of Tables = \" +str(len(tables)))"
      ],
      "execution_count": 9,
      "outputs": []
    },
    {
      "cell_type": "code",
      "metadata": {
        "id": "6YSCV-dEiwLz"
      },
      "source": [
        "# now we are printing the table present to check if the program is perfectly working\n",
        "# and we assign the table present in the tables value to a new variable table1\n",
        "table1 = tables[0]\n",
        "#print(table1)"
      ],
      "execution_count": 10,
      "outputs": []
    },
    {
      "cell_type": "markdown",
      "metadata": {
        "id": "6ioLhR3wo8YR"
      },
      "source": [
        "## Step 3 : Find all the Table rows and Table data cells"
      ]
    },
    {
      "cell_type": "code",
      "metadata": {
        "id": "B21fLs4Ni0QS"
      },
      "source": [
        "# I created a variable called rows and assigned all the values in 'tr' i.e table rows\n",
        "rows=table1.findAll(\"tr\")\n",
        "# finding the length of each row\n",
        "rowLength=[len(r.findAll(['th','td'])) for r in rows]\n",
        "# identifying the length of rows and columns\n",
        "ncols=max(rowLength)\n",
        "nrows=len(rows)\n",
        "#here we create a variable called data and append all the required values into that from the table\n",
        "data=[]\n",
        "for i in range(nrows):\n",
        "  rowD=[]\n",
        "  for j in range(ncols):\n",
        "    rowD.append('')\n",
        "  data.append(rowD)\n",
        "# printing the number of rows and the number of values values in each row\n",
        "#print(len(data))\n",
        "#print(len(data[0]))"
      ],
      "execution_count": 11,
      "outputs": []
    },
    {
      "cell_type": "code",
      "metadata": {
        "id": "R2cg8mEEi7dd"
      },
      "source": [
        "#now as we aldready have the values in the data variable \n",
        "# we assign the respective value for each and every cell for the dataframe\n",
        "for i in range(len(rows)):\n",
        "  row=rows[i]\n",
        "  cells = row.findAll([\"td\",\"th\"])\n",
        "  for j in range(len(cells)):\n",
        "    cell=cells[j]\n",
        "    data[i][j]+=cell.text"
      ],
      "execution_count": 12,
      "outputs": []
    },
    {
      "cell_type": "markdown",
      "metadata": {
        "id": "45LFSX9ipwaA"
      },
      "source": [
        "## Step 4: Generating of the Dataframe"
      ]
    },
    {
      "cell_type": "code",
      "metadata": {
        "colab": {
          "base_uri": "https://localhost:8080/",
          "height": 417
        },
        "id": "lBzj7SONi_os",
        "outputId": "44b55788-bd8f-4fa3-b299-a3c72793d726"
      },
      "source": [
        "# using the pythons pandas we are creating the dataframe and then printing it\n",
        "data_cols = data[0]\n",
        "data = data[1:]\n",
        "df = pd.DataFrame(data, columns=data_cols)\n",
        "df"
      ],
      "execution_count": 13,
      "outputs": [
        {
          "output_type": "execute_result",
          "data": {
            "text/html": [
              "<div>\n",
              "<style scoped>\n",
              "    .dataframe tbody tr th:only-of-type {\n",
              "        vertical-align: middle;\n",
              "    }\n",
              "\n",
              "    .dataframe tbody tr th {\n",
              "        vertical-align: top;\n",
              "    }\n",
              "\n",
              "    .dataframe thead th {\n",
              "        text-align: right;\n",
              "    }\n",
              "</style>\n",
              "<table border=\"1\" class=\"dataframe\">\n",
              "  <thead>\n",
              "    <tr style=\"text-align: right;\">\n",
              "      <th></th>\n",
              "      <th>Country\\n</th>\n",
              "      <th>Adult prevalence  of HIV/AIDS[1]\\n</th>\n",
              "      <th>Number of people  with HIV/AIDS\\n</th>\n",
              "      <th>Annual deaths  from HIV/AIDS[3]\\n</th>\n",
              "      <th>Year of estimate\\n</th>\n",
              "    </tr>\n",
              "  </thead>\n",
              "  <tbody>\n",
              "    <tr>\n",
              "      <th>0</th>\n",
              "      <td>Eswatini\\n</td>\n",
              "      <td>27.10%\\n</td>\n",
              "      <td>200,000\\n</td>\n",
              "      <td>2,300\\n</td>\n",
              "      <td>2019\\n</td>\n",
              "    </tr>\n",
              "    <tr>\n",
              "      <th>1</th>\n",
              "      <td>Lesotho\\n</td>\n",
              "      <td>23.10%\\n</td>\n",
              "      <td>340,000\\n</td>\n",
              "      <td>4,800\\n</td>\n",
              "      <td>2019\\n</td>\n",
              "    </tr>\n",
              "    <tr>\n",
              "      <th>2</th>\n",
              "      <td>Botswana\\n</td>\n",
              "      <td>22.20%\\n</td>\n",
              "      <td>380,000\\n</td>\n",
              "      <td>5,000\\n</td>\n",
              "      <td>2019\\n</td>\n",
              "    </tr>\n",
              "    <tr>\n",
              "      <th>3</th>\n",
              "      <td>South Africa\\n</td>\n",
              "      <td>17.30%\\n</td>\n",
              "      <td>7,500,000\\n</td>\n",
              "      <td>72,000\\n</td>\n",
              "      <td>2019\\n</td>\n",
              "    </tr>\n",
              "    <tr>\n",
              "      <th>4</th>\n",
              "      <td>Zimbabwe\\n</td>\n",
              "      <td>13.40%\\n</td>\n",
              "      <td>1,400,000\\n</td>\n",
              "      <td>20,000\\n</td>\n",
              "      <td>2019\\n</td>\n",
              "    </tr>\n",
              "    <tr>\n",
              "      <th>...</th>\n",
              "      <td>...</td>\n",
              "      <td>...</td>\n",
              "      <td>...</td>\n",
              "      <td>...</td>\n",
              "      <td>...</td>\n",
              "    </tr>\n",
              "    <tr>\n",
              "      <th>132</th>\n",
              "      <td>Czech Republic\\n</td>\n",
              "      <td>0.051%[25]\\n</td>\n",
              "      <td>3,122[26]\\n</td>\n",
              "      <td>-\\n</td>\n",
              "      <td>2019\\n</td>\n",
              "    </tr>\n",
              "    <tr>\n",
              "      <th>133</th>\n",
              "      <td>Montenegro\\n</td>\n",
              "      <td>0.04%\\n</td>\n",
              "      <td>243[27]\\n</td>\n",
              "      <td>4[28]\\n</td>\n",
              "      <td>2019[27]\\n</td>\n",
              "    </tr>\n",
              "    <tr>\n",
              "      <th>134</th>\n",
              "      <td>Algeria\\n</td>\n",
              "      <td>0.029%\\n</td>\n",
              "      <td>13,000\\n</td>\n",
              "      <td>-\\n</td>\n",
              "      <td>2016\\n</td>\n",
              "    </tr>\n",
              "    <tr>\n",
              "      <th>135</th>\n",
              "      <td>Saudi Arabia\\n</td>\n",
              "      <td>0.024%\\n</td>\n",
              "      <td>8,200\\n</td>\n",
              "      <td>-\\n</td>\n",
              "      <td>2016\\n</td>\n",
              "    </tr>\n",
              "    <tr>\n",
              "      <th>136</th>\n",
              "      <td>Bosnia and Herzegovina\\n</td>\n",
              "      <td>0.009%\\n</td>\n",
              "      <td>350\\n</td>\n",
              "      <td>-\\n</td>\n",
              "      <td>2018\\n</td>\n",
              "    </tr>\n",
              "  </tbody>\n",
              "</table>\n",
              "<p>137 rows × 5 columns</p>\n",
              "</div>"
            ],
            "text/plain": [
              "                     Country\\n  ... Year of estimate\\n\n",
              "0                   Eswatini\\n  ...             2019\\n\n",
              "1                    Lesotho\\n  ...             2019\\n\n",
              "2                   Botswana\\n  ...             2019\\n\n",
              "3               South Africa\\n  ...             2019\\n\n",
              "4                   Zimbabwe\\n  ...             2019\\n\n",
              "..                         ...  ...                ...\n",
              "132           Czech Republic\\n  ...             2019\\n\n",
              "133               Montenegro\\n  ...         2019[27]\\n\n",
              "134                  Algeria\\n  ...             2016\\n\n",
              "135             Saudi Arabia\\n  ...             2016\\n\n",
              "136   Bosnia and Herzegovina\\n  ...             2018\\n\n",
              "\n",
              "[137 rows x 5 columns]"
            ]
          },
          "metadata": {
            "tags": []
          },
          "execution_count": 13
        }
      ]
    },
    {
      "cell_type": "code",
      "metadata": {
        "id": "eEWx3c1fjyrM"
      },
      "source": [
        "# now we are saving the dataframe into a csv file for our further uses.\n",
        "df.to_csv('internship_task1_webScrapping.csv')"
      ],
      "execution_count": 14,
      "outputs": []
    },
    {
      "cell_type": "markdown",
      "metadata": {
        "id": "KVosQSZrqR57"
      },
      "source": [
        "Note: If the data present in the csv file is not visibile. That would be because of text wrap. Just select the entire file (Ctrl+A) then click on textwrap to show the data."
      ]
    }
  ]
}